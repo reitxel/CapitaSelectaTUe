{
 "cells": [
  {
   "cell_type": "code",
   "execution_count": null,
   "id": "306ffe16",
   "metadata": {},
   "outputs": [],
   "source": [
    "def dice_3d(real_mask, pred_mask):\n",
    "    \"\"\"\n",
    "    Function that calculates the dice similariuty score of\n",
    "    the reference and predicted segmentation masks\n",
    "    \n",
    "    Parameters:\n",
    "    ----------\n",
    "    real_mask:  3D array, referece segmentation mask\n",
    "    pred_mask: 3D array, preeicted segmentation mask\n",
    "    \n",
    "    Returns\n",
    "    -------\n",
    "    dice_3d : integer, dice simililarity score between real_mask\n",
    "    and predicted mask\n",
    "        \n",
    "    \"\"\"\n",
    "   \n",
    "\n",
    "    # Compute Dice coefficient\n",
    "    dice_3d = mmb.dc(real_mask, pred_mask)\n",
    "\n",
    "    return dice_3d"
   ]
  }
 ],
 "metadata": {
  "kernelspec": {
   "display_name": "Python 3 (ipykernel)",
   "language": "python",
   "name": "python3"
  },
  "language_info": {
   "codemirror_mode": {
    "name": "ipython",
    "version": 3
   },
   "file_extension": ".py",
   "mimetype": "text/x-python",
   "name": "python",
   "nbconvert_exporter": "python",
   "pygments_lexer": "ipython3",
   "version": "3.10.9"
  }
 },
 "nbformat": 4,
 "nbformat_minor": 5
}
