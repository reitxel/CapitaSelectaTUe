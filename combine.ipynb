{
 "cells": [
  {
   "cell_type": "code",
   "execution_count": 34,
   "id": "80bf31b3",
   "metadata": {},
   "outputs": [],
   "source": [
    "from __future__ import print_function, absolute_import\n",
    "import os\n",
    "import elastix\n",
    "import matplotlib.pyplot as plt\n",
    "import numpy as np\n",
    "import imageio\n",
    "import SimpleITK as sitk\n",
    "import voxelmorph as vxm\n",
    "import fileinput\n",
    "import pandas as pd\n",
    "import cv2"
   ]
  },
  {
   "cell_type": "code",
   "execution_count": 2,
   "id": "0c464289",
   "metadata": {},
   "outputs": [],
   "source": [
    "ELASTIX_PATH = os.path.join(r\"C:\\Users\\20192059\\Documents\\Master\\CS in MIA\\elastix-5.0.0-win64\\elastix.exe\")\n",
    "TRANSFORMIX_PATH = os.path.join(r\"C:\\Users\\20192059\\Documents\\Master\\CS in MIA\\elastix-5.0.0-win64\\transformix.exe\")\n",
    "if not os.path.exists(ELASTIX_PATH):\n",
    "    raise IOError('Elastix cannot be found, please set the correct ELASTIX_PATH.')\n",
    "if os.path.exists('results') is False:\n",
    "    os.mkdir('results')\n",
    "if os.path.exists('results1') is False:\n",
    "    os.mkdir('results1')\n",
    "if os.path.exists('atlas_images') is False:\n",
    "    os.mkdir('atlas_images')\n",
    "\n",
    "el = elastix.ElastixInterface(elastix_path=ELASTIX_PATH)"
   ]
  },
  {
   "cell_type": "code",
   "execution_count": 4,
   "id": "0b02c212",
   "metadata": {},
   "outputs": [],
   "source": [
    "parameter_file_path = r\"C:\\Users\\20192059\\Documents\\Master\\CS in MIA\\CapitaSelectaTUe-main\\Affine.txt\"\n",
    "parameter_file_path_bspline = r\"C:\\Users\\20192059\\Documents\\Master\\CS in MIA\\CapitaSelectaTUe-main\\B-spline1.txt\"\n",
    "data_path = r\"C:\\Users\\20192059\\Documents\\Master\\CS in MIA\\TrainingData\\TrainingData\" #path to training data folder\n",
    "atlas_path = r\"C:\\Users\\20192059\\Documents\\Master\\CS in MIA\\atlas_images\"#path to folder where atlas images are saved\n",
    "MRI = \"mr_bffe.mhd\"\n",
    "atlas  = \"prostaat.mhd\""
   ]
  },
  {
   "cell_type": "code",
   "execution_count": 5,
   "id": "bee61f91",
   "metadata": {},
   "outputs": [],
   "source": [
    "# function for NMI between images\n",
    "def NMI(img1,img2):\n",
    "    img1_ = sitk.GetArrayFromImage(img1)\n",
    "    img2_ = sitk.GetArrayFromImage(img2)\n",
    "    img2_ = np.reshape(img2_, -1)\n",
    "    img1_ = np.reshape(img1_, -1)\n",
    "    normalized_mutual_infor = normalized_mutual_info_score(img1_, img2_)\n",
    "    nmi = normalized_mutual_infor \n",
    "    print(nmi)"
   ]
  },
  {
   "cell_type": "code",
   "execution_count": 25,
   "id": "74a2befc",
   "metadata": {},
   "outputs": [],
   "source": [
    "nmi_df = pd.DataFrame(columns =['Patient','NMI score'])\n",
    "patient_list = [\"p102\",\"p107\",\"p108\",\"p109\",\"p115\",\"p116\",\"p117\",\"p119\",\"p120\",\"p125\",\"p127\",\"p128\",\"p129\",\"p133\",\"p135\"]"
   ]
  },
  {
   "cell_type": "code",
   "execution_count": 56,
   "id": "28d46756",
   "metadata": {},
   "outputs": [
    {
     "name": "stdout",
     "output_type": "stream",
     "text": [
      "['p107', 'p108', 'p109', 'p115', 'p116', 'p117', 'p119', 'p120', 'p125', 'p127', 'p128', 'p129', 'p133', 'p135']\n",
      "C:\\Users\\20192059\\Documents\\Master\\CS in MIA\\elastix-5.0.0-win64\\elastix.exe -f C:\\Users\\20192059\\Documents\\Master\\CS in MIA\\TrainingData\\TrainingData\\p102\\mr_bffe.mhd -m C:\\Users\\20192059\\Documents\\Master\\CS in MIA\\TrainingData\\TrainingData\\p107\\mr_bffe.mhd -p C:\\Users\\20192059\\Documents\\Master\\CS in MIA\\CapitaSelectaTUe-main\\Affine.txt -out C:\\Users\\20192059\\Documents\\Master\\CS in MIA\\atlas_images\\p102\n"
     ]
    },
    {
     "name": "stderr",
     "output_type": "stream",
     "text": [
      "C:\\Users\\20192059\\.conda\\envs\\CS\\lib\\site-packages\\ipykernel_launcher.py:51: DeprecationWarning: Starting with ImageIO v3 the behavior of this function will switch to that of iio.v3.imread. To keep the current behavior (and make this warning disappear) use `import imageio.v2 as imageio` or call `imageio.v2.imread` directly.\n"
     ]
    },
    {
     "ename": "ValueError",
     "evalue": "Image is not numeric, but str.",
     "output_type": "error",
     "traceback": [
      "\u001b[1;31m---------------------------------------------------------------------------\u001b[0m",
      "\u001b[1;31mValueError\u001b[0m                                Traceback (most recent call last)",
      "\u001b[1;32m~\\AppData\\Local\\Temp\\ipykernel_3328\\2163392853.py\u001b[0m in \u001b[0;36m<module>\u001b[1;34m\u001b[0m\n\u001b[0;32m     52\u001b[0m \u001b[1;33m\u001b[0m\u001b[0m\n\u001b[0;32m     53\u001b[0m         \u001b[0moutputFile\u001b[0m \u001b[1;33m=\u001b[0m \u001b[0mos\u001b[0m\u001b[1;33m.\u001b[0m\u001b[0mpath\u001b[0m\u001b[1;33m.\u001b[0m\u001b[0mjoin\u001b[0m\u001b[1;33m(\u001b[0m\u001b[0matlas_path\u001b[0m\u001b[1;33m,\u001b[0m \u001b[0mi\u001b[0m\u001b[1;33m)\u001b[0m\u001b[1;33m\u001b[0m\u001b[1;33m\u001b[0m\u001b[0m\n\u001b[1;32m---> 54\u001b[1;33m         \u001b[0mimageio\u001b[0m\u001b[1;33m.\u001b[0m\u001b[0mimwrite\u001b[0m\u001b[1;33m(\u001b[0m\u001b[0mtransformed_moving_image_new\u001b[0m\u001b[1;33m,\u001b[0m \u001b[0moutputFile\u001b[0m\u001b[1;33m)\u001b[0m\u001b[1;33m\u001b[0m\u001b[1;33m\u001b[0m\u001b[0m\n\u001b[0m\u001b[0;32m     55\u001b[0m \u001b[1;33m\u001b[0m\u001b[0m\n\u001b[0;32m     56\u001b[0m         \u001b[1;31m#img = cv2.imread(transformed_image_path)\u001b[0m\u001b[1;33m\u001b[0m\u001b[1;33m\u001b[0m\u001b[1;33m\u001b[0m\u001b[0m\n",
      "\u001b[1;32m~\\.conda\\envs\\CS\\lib\\site-packages\\imageio\\v2.py\u001b[0m in \u001b[0;36mimwrite\u001b[1;34m(uri, im, format, **kwargs)\u001b[0m\n\u001b[0;32m    254\u001b[0m     \u001b[0mim\u001b[0m \u001b[1;33m=\u001b[0m \u001b[0mnp\u001b[0m\u001b[1;33m.\u001b[0m\u001b[0masarray\u001b[0m\u001b[1;33m(\u001b[0m\u001b[0mim\u001b[0m\u001b[1;33m)\u001b[0m\u001b[1;33m\u001b[0m\u001b[1;33m\u001b[0m\u001b[0m\n\u001b[0;32m    255\u001b[0m     \u001b[1;32mif\u001b[0m \u001b[1;32mnot\u001b[0m \u001b[0mnp\u001b[0m\u001b[1;33m.\u001b[0m\u001b[0missubdtype\u001b[0m\u001b[1;33m(\u001b[0m\u001b[0mim\u001b[0m\u001b[1;33m.\u001b[0m\u001b[0mdtype\u001b[0m\u001b[1;33m,\u001b[0m \u001b[0mnp\u001b[0m\u001b[1;33m.\u001b[0m\u001b[0mnumber\u001b[0m\u001b[1;33m)\u001b[0m\u001b[1;33m:\u001b[0m\u001b[1;33m\u001b[0m\u001b[1;33m\u001b[0m\u001b[0m\n\u001b[1;32m--> 256\u001b[1;33m         \u001b[1;32mraise\u001b[0m \u001b[0mValueError\u001b[0m\u001b[1;33m(\u001b[0m\u001b[1;34m\"Image is not numeric, but {}.\"\u001b[0m\u001b[1;33m.\u001b[0m\u001b[0mformat\u001b[0m\u001b[1;33m(\u001b[0m\u001b[0mimt\u001b[0m\u001b[1;33m.\u001b[0m\u001b[0m__name__\u001b[0m\u001b[1;33m)\u001b[0m\u001b[1;33m)\u001b[0m\u001b[1;33m\u001b[0m\u001b[1;33m\u001b[0m\u001b[0m\n\u001b[0m\u001b[0;32m    257\u001b[0m \u001b[1;33m\u001b[0m\u001b[0m\n\u001b[0;32m    258\u001b[0m     \u001b[1;32mif\u001b[0m \u001b[0mis_batch\u001b[0m\u001b[1;33m(\u001b[0m\u001b[0mim\u001b[0m\u001b[1;33m)\u001b[0m \u001b[1;32mor\u001b[0m \u001b[0mim\u001b[0m\u001b[1;33m.\u001b[0m\u001b[0mndim\u001b[0m \u001b[1;33m<\u001b[0m \u001b[1;36m2\u001b[0m\u001b[1;33m:\u001b[0m\u001b[1;33m\u001b[0m\u001b[1;33m\u001b[0m\u001b[0m\n",
      "\u001b[1;31mValueError\u001b[0m: Image is not numeric, but str."
     ]
    }
   ],
   "source": [
    "# for loop over the patients, in which the selected patient is the gold standard\n",
    "for i in patient_list:\n",
    "    #remove existing files in folder\n",
    "    dir = os.path.join(atlas_path, i) \n",
    "    for f in os.listdir(dir):\n",
    "        os.remove(os.path.join(dir, f))\n",
    "    \n",
    "    #specify validation image\n",
    "    fixed_image_path = os.path.join(data_path, i, MRI) \n",
    "    fixed_image_path_new = os.path.join(data_path, i, atlas) \n",
    "    fixed_image_new = imageio.v2.imread(fixed_image_path_new)[40,:,:]\n",
    "\n",
    "    \n",
    "    #make list of all patients except validation patient\n",
    "    training_patients_list = []\n",
    "    for j in patient_list:\n",
    "        if i != j:\n",
    "            training_patients_list.append(j)\n",
    "    print(training_patients_list)\n",
    "    \n",
    "    #loop over training patients \n",
    "    for k in training_patients_list:\n",
    "        moving_image_path = os.path.join(data_path, k, MRI) #training image\n",
    "        moving_image_path_new = os.path.join(data_path, k, atlas) #training image\n",
    "        result_path = os.path.join(atlas_path, i)\n",
    "        \n",
    "        #affine registration\n",
    "        el.register(\n",
    "            fixed_image=fixed_image_path,\n",
    "            moving_image=moving_image_path,\n",
    "            parameters=[parameter_file_path],\n",
    "            output_dir=result_path)#'results')\n",
    "        \n",
    "        # alter parameter file after registration\n",
    "        filename = os.path.join(result_path, 'TransformParameters.0.txt')\n",
    "        with fileinput.FileInput(filename, backup = '', inplace = True) as f:\n",
    "            for line in f:\n",
    "                if(\"(FinalBSplineInterpolationOrder 3)\\n\" == line):\n",
    "                    print(\"(FinalBSplineInterpolationOrder 0)\",end ='\\n')\n",
    "                else:\n",
    "                    print(line, end ='')\n",
    "        \n",
    "        # read images\n",
    "        result_path_affine = os.path.join(result_path, 'result.0.mhd')\n",
    "        transformed_moving_image = imageio.v2.imread(result_path_affine)[40,:,:]\n",
    "        \n",
    "        #transform atlas image\n",
    "        tr =elastix.TransformixInterface(parameters=os.path.join(result_path, 'TransformParameters.0.txt'),\n",
    "        transformix_path=TRANSFORMIX_PATH)\n",
    "        \n",
    "        transformed_image_path = tr.transform_image(moving_image_path_new, output_dir=result_path)\n",
    "        transformed_moving_image_new= imageio.imread(transformed_image_path.replace('dcm', 'tiff'))[40,:,:]\n",
    "        \n",
    "        outputFile = os.path.join(atlas_path, i)\n",
    "        imageio.imwrite(transformed_moving_image_new, outputFile)\n",
    "        \n",
    "        #img = cv2.imread(transformed_image_path)\n",
    "        #print(type(img))\n",
    "        #os.chdir(result_path)\n",
    "        #filename = os.path.join(\"atlas\", k+'.tiff')\n",
    "        #cv2.imwrite(filename, img[40,:,:])\n",
    "        \n",
    "        # NMI, select the best images\n",
    "        img1 = sitk.ReadImage(fixed_image_path,sitk.sitkFloat32)\n",
    "        img2 = sitk.ReadImage(moving_image_path,sitk.sitkFloat32)\n",
    "        score = NMI(img1, img2)\n",
    "        nmi_df = nmi_df.append({'Patient':k, 'NMI score': score}, ignore_index = True)\n",
    "        \n",
    "    nmi_df['NMI score'].nlargest(n=5) # define how many atlas images you want to use\n",
    "    for column in nmi_df:\n",
    "        top_patients_list = nmi_df['NMI score'].values  \n",
    "        \n",
    "    #for l in top_patients_list:\n",
    "        #result_path_affine = os.path.join(affine_path, i, MRI)"
   ]
  },
  {
   "cell_type": "code",
   "execution_count": null,
   "id": "1008d631",
   "metadata": {},
   "outputs": [],
   "source": [
    "#Bspine registration\n",
    "        el.register(\n",
    "            fixed_image=fixed_image_path,\n",
    "            moving_image=result_path_affine,\n",
    "            parameters=[parameter_file_path_bspline],\n",
    "            output_dir='results1')\n",
    "        \n",
    "        result_path = os.path.join('results1', 'result.0.mhd')\n",
    "        \n",
    "        #fixed_image = imageio.imread(fixed_image_path)[40,:,:]\n",
    "        #moving_image = imageio.imread(result_path_affine)[40,:,:]\n",
    "        transformed_moving_image = imageio.imread(result_path)[40,:,:]\n",
    "        \n",
    "        filename =  r\"C:\\Users\\20192059\\Documents\\Master\\CS in MIA\\results1\\TransformParameters.0.txt\"\n",
    "        with fileinput.FileInput(filename, inplace = True) as f:\n",
    "            for line in f:\n",
    "                if(\"(FinalBSplineInterpolationOrder 3)\\n\" == line):\n",
    "                    print(\"(FinalBSplineInterpolationOrder 0)\",end ='\\n')\n",
    "                else:\n",
    "                    print(line, end ='')\n",
    "                    \n",
    "        #transform atlas image\n",
    "\n",
    "        tr_2 =elastix.TransformixInterface(parameters='results1/TransformParameters.0.txt',\n",
    "        transformix_path=TRANSFORMIX_PATH)\n",
    "        transformed_image_path_2 = tr_2.transform_image(transformed_image_path, output_dir=r'results1')\n",
    "\n",
    "        transformed_moving_image_new= imageio.imread(transformed_image_path_2.replace('dcm', 'tiff'))[40,:,:]\n",
    "        \n",
    "        #save transformed atlas image\n",
    "        outputFile = os.path.join(atlas_path, i)\n",
    "        imageio.write(transformed_moving_image_new, 'tiff', outputFile) #atlas images are saved in the folder with the nme of the validation image\n"
   ]
  }
 ],
 "metadata": {
  "kernelspec": {
   "display_name": "Python 3 (ipykernel)",
   "language": "python",
   "name": "python3"
  },
  "language_info": {
   "codemirror_mode": {
    "name": "ipython",
    "version": 3
   },
   "file_extension": ".py",
   "mimetype": "text/x-python",
   "name": "python",
   "nbconvert_exporter": "python",
   "pygments_lexer": "ipython3",
   "version": "3.7.16"
  }
 },
 "nbformat": 4,
 "nbformat_minor": 5
}
